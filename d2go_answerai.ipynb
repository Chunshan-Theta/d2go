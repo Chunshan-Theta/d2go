{
  "cells": [
    {
      "cell_type": "markdown",
      "metadata": {
        "id": "view-in-github",
        "colab_type": "text"
      },
      "source": [
        "<a href=\"https://colab.research.google.com/github/Chunshan-Theta/d2go/blob/main/d2go_answerai.ipynb\" target=\"_parent\"><img src=\"https://colab.research.google.com/assets/colab-badge.svg\" alt=\"Open In Colab\"/></a>"
      ]
    },
    {
      "cell_type": "markdown",
      "metadata": {
        "id": "-IyQwL84Ykd0"
      },
      "source": [
        "# 說明\n",
        "本記事本會建立一個最小可行的環境\n",
        "本模型目標在辨識 圖片上的考題與附圖\n",
        "\n",
        "# 使用方式\n",
        "1. 點選全部執行 (若github沒有權限再聯繫我)\n",
        "2. 最後執行完的圖片會放在`playground`的資料夾下"
      ]
    },
    {
      "cell_type": "code",
      "execution_count": null,
      "metadata": {
        "colab": {
          "base_uri": "https://localhost:8080/"
        },
        "id": "NEYKaX68LuAH",
        "outputId": "a2e742b5-37c2-4714-c47f-e8802fd14baf"
      },
      "outputs": [
        {
          "output_type": "stream",
          "name": "stdout",
          "text": [
            "Collecting git+https://github.com/facebookresearch/detectron2.git\n",
            "  Cloning https://github.com/facebookresearch/detectron2.git to /tmp/pip-req-build-uisx2kmq\n",
            "  Running command git clone --filter=blob:none --quiet https://github.com/facebookresearch/detectron2.git /tmp/pip-req-build-uisx2kmq\n",
            "  Resolved https://github.com/facebookresearch/detectron2.git to commit 9131ce0e5bc0c89904541bc0355d933ccd6acbfb\n",
            "  Preparing metadata (setup.py) ... \u001b[?25l\u001b[?25hdone\n",
            "Requirement already satisfied: Pillow>=7.1 in /usr/local/lib/python3.10/dist-packages (from detectron2==0.6) (11.0.0)\n",
            "Requirement already satisfied: matplotlib in /usr/local/lib/python3.10/dist-packages (from detectron2==0.6) (3.8.0)\n",
            "Requirement already satisfied: pycocotools>=2.0.2 in /usr/local/lib/python3.10/dist-packages (from detectron2==0.6) (2.0.8)\n",
            "Requirement already satisfied: termcolor>=1.1 in /usr/local/lib/python3.10/dist-packages (from detectron2==0.6) (2.5.0)\n",
            "Collecting yacs>=0.1.8 (from detectron2==0.6)\n",
            "  Downloading yacs-0.1.8-py3-none-any.whl.metadata (639 bytes)\n",
            "Requirement already satisfied: tabulate in /usr/local/lib/python3.10/dist-packages (from detectron2==0.6) (0.9.0)\n",
            "Requirement already satisfied: cloudpickle in /usr/local/lib/python3.10/dist-packages (from detectron2==0.6) (3.1.0)\n",
            "Requirement already satisfied: tqdm>4.29.0 in /usr/local/lib/python3.10/dist-packages (from detectron2==0.6) (4.66.6)\n",
            "Requirement already satisfied: tensorboard in /usr/local/lib/python3.10/dist-packages (from detectron2==0.6) (2.17.0)\n",
            "Collecting fvcore<0.1.6,>=0.1.5 (from detectron2==0.6)\n",
            "  Downloading fvcore-0.1.5.post20221221.tar.gz (50 kB)\n",
            "\u001b[2K     \u001b[90m━━━━━━━━━━━━━━━━━━━━━━━━━━━━━━━━━━━━━━━━\u001b[0m \u001b[32m50.2/50.2 kB\u001b[0m \u001b[31m1.9 MB/s\u001b[0m eta \u001b[36m0:00:00\u001b[0m\n",
            "\u001b[?25h  Preparing metadata (setup.py) ... \u001b[?25l\u001b[?25hdone\n",
            "Collecting iopath<0.1.10,>=0.1.7 (from detectron2==0.6)\n",
            "  Downloading iopath-0.1.9-py3-none-any.whl.metadata (370 bytes)\n",
            "Collecting omegaconf<2.4,>=2.1 (from detectron2==0.6)\n",
            "  Downloading omegaconf-2.3.0-py3-none-any.whl.metadata (3.9 kB)\n",
            "Collecting hydra-core>=1.1 (from detectron2==0.6)\n",
            "  Downloading hydra_core-1.3.2-py3-none-any.whl.metadata (5.5 kB)\n",
            "Collecting black (from detectron2==0.6)\n",
            "  Downloading black-24.10.0-cp310-cp310-manylinux_2_17_x86_64.manylinux2014_x86_64.manylinux_2_28_x86_64.whl.metadata (79 kB)\n",
            "\u001b[2K     \u001b[90m━━━━━━━━━━━━━━━━━━━━━━━━━━━━━━━━━━━━━━━━\u001b[0m \u001b[32m79.2/79.2 kB\u001b[0m \u001b[31m4.8 MB/s\u001b[0m eta \u001b[36m0:00:00\u001b[0m\n",
            "\u001b[?25hRequirement already satisfied: packaging in /usr/local/lib/python3.10/dist-packages (from detectron2==0.6) (24.2)\n",
            "Requirement already satisfied: numpy in /usr/local/lib/python3.10/dist-packages (from fvcore<0.1.6,>=0.1.5->detectron2==0.6) (1.26.4)\n",
            "Requirement already satisfied: pyyaml>=5.1 in /usr/local/lib/python3.10/dist-packages (from fvcore<0.1.6,>=0.1.5->detectron2==0.6) (6.0.2)\n",
            "Collecting antlr4-python3-runtime==4.9.* (from hydra-core>=1.1->detectron2==0.6)\n",
            "  Downloading antlr4-python3-runtime-4.9.3.tar.gz (117 kB)\n",
            "\u001b[2K     \u001b[90m━━━━━━━━━━━━━━━━━━━━━━━━━━━━━━━━━━━━━━━━\u001b[0m \u001b[32m117.0/117.0 kB\u001b[0m \u001b[31m11.8 MB/s\u001b[0m eta \u001b[36m0:00:00\u001b[0m\n",
            "\u001b[?25h  Preparing metadata (setup.py) ... \u001b[?25l\u001b[?25hdone\n",
            "Collecting portalocker (from iopath<0.1.10,>=0.1.7->detectron2==0.6)\n",
            "  Downloading portalocker-2.10.1-py3-none-any.whl.metadata (8.5 kB)\n",
            "Requirement already satisfied: contourpy>=1.0.1 in /usr/local/lib/python3.10/dist-packages (from matplotlib->detectron2==0.6) (1.3.0)\n",
            "Requirement already satisfied: cycler>=0.10 in /usr/local/lib/python3.10/dist-packages (from matplotlib->detectron2==0.6) (0.12.1)\n",
            "Requirement already satisfied: fonttools>=4.22.0 in /usr/local/lib/python3.10/dist-packages (from matplotlib->detectron2==0.6) (4.54.1)\n",
            "Requirement already satisfied: kiwisolver>=1.0.1 in /usr/local/lib/python3.10/dist-packages (from matplotlib->detectron2==0.6) (1.4.7)\n",
            "Requirement already satisfied: pyparsing>=2.3.1 in /usr/local/lib/python3.10/dist-packages (from matplotlib->detectron2==0.6) (3.2.0)\n",
            "Requirement already satisfied: python-dateutil>=2.7 in /usr/local/lib/python3.10/dist-packages (from matplotlib->detectron2==0.6) (2.8.2)\n",
            "Requirement already satisfied: click>=8.0.0 in /usr/local/lib/python3.10/dist-packages (from black->detectron2==0.6) (8.1.7)\n",
            "Collecting mypy-extensions>=0.4.3 (from black->detectron2==0.6)\n",
            "  Downloading mypy_extensions-1.0.0-py3-none-any.whl.metadata (1.1 kB)\n",
            "Collecting pathspec>=0.9.0 (from black->detectron2==0.6)\n",
            "  Downloading pathspec-0.12.1-py3-none-any.whl.metadata (21 kB)\n",
            "Requirement already satisfied: platformdirs>=2 in /usr/local/lib/python3.10/dist-packages (from black->detectron2==0.6) (4.3.6)\n",
            "Requirement already satisfied: tomli>=1.1.0 in /usr/local/lib/python3.10/dist-packages (from black->detectron2==0.6) (2.0.2)\n",
            "Requirement already satisfied: typing-extensions>=4.0.1 in /usr/local/lib/python3.10/dist-packages (from black->detectron2==0.6) (4.12.2)\n",
            "Requirement already satisfied: absl-py>=0.4 in /usr/local/lib/python3.10/dist-packages (from tensorboard->detectron2==0.6) (1.4.0)\n",
            "Requirement already satisfied: grpcio>=1.48.2 in /usr/local/lib/python3.10/dist-packages (from tensorboard->detectron2==0.6) (1.67.1)\n",
            "Requirement already satisfied: markdown>=2.6.8 in /usr/local/lib/python3.10/dist-packages (from tensorboard->detectron2==0.6) (3.7)\n",
            "Requirement already satisfied: protobuf!=4.24.0,<5.0.0,>=3.19.6 in /usr/local/lib/python3.10/dist-packages (from tensorboard->detectron2==0.6) (4.25.5)\n",
            "Requirement already satisfied: setuptools>=41.0.0 in /usr/local/lib/python3.10/dist-packages (from tensorboard->detectron2==0.6) (75.1.0)\n",
            "Requirement already satisfied: six>1.9 in /usr/local/lib/python3.10/dist-packages (from tensorboard->detectron2==0.6) (1.16.0)\n",
            "Requirement already satisfied: tensorboard-data-server<0.8.0,>=0.7.0 in /usr/local/lib/python3.10/dist-packages (from tensorboard->detectron2==0.6) (0.7.2)\n",
            "Requirement already satisfied: werkzeug>=1.0.1 in /usr/local/lib/python3.10/dist-packages (from tensorboard->detectron2==0.6) (3.1.3)\n",
            "Requirement already satisfied: MarkupSafe>=2.1.1 in /usr/local/lib/python3.10/dist-packages (from werkzeug>=1.0.1->tensorboard->detectron2==0.6) (3.0.2)\n",
            "Downloading hydra_core-1.3.2-py3-none-any.whl (154 kB)\n",
            "\u001b[2K   \u001b[90m━━━━━━━━━━━━━━━━━━━━━━━━━━━━━━━━━━━━━━━━\u001b[0m \u001b[32m154.5/154.5 kB\u001b[0m \u001b[31m14.6 MB/s\u001b[0m eta \u001b[36m0:00:00\u001b[0m\n",
            "\u001b[?25hDownloading iopath-0.1.9-py3-none-any.whl (27 kB)\n",
            "Downloading omegaconf-2.3.0-py3-none-any.whl (79 kB)\n",
            "\u001b[2K   \u001b[90m━━━━━━━━━━━━━━━━━━━━━━━━━━━━━━━━━━━━━━━━\u001b[0m \u001b[32m79.5/79.5 kB\u001b[0m \u001b[31m8.0 MB/s\u001b[0m eta \u001b[36m0:00:00\u001b[0m\n",
            "\u001b[?25hDownloading yacs-0.1.8-py3-none-any.whl (14 kB)\n",
            "Downloading black-24.10.0-cp310-cp310-manylinux_2_17_x86_64.manylinux2014_x86_64.manylinux_2_28_x86_64.whl (1.8 MB)\n",
            "\u001b[2K   \u001b[90m━━━━━━━━━━━━━━━━━━━━━━━━━━━━━━━━━━━━━━━━\u001b[0m \u001b[32m1.8/1.8 MB\u001b[0m \u001b[31m47.3 MB/s\u001b[0m eta \u001b[36m0:00:00\u001b[0m\n",
            "\u001b[?25hDownloading mypy_extensions-1.0.0-py3-none-any.whl (4.7 kB)\n",
            "Downloading pathspec-0.12.1-py3-none-any.whl (31 kB)\n",
            "Downloading portalocker-2.10.1-py3-none-any.whl (18 kB)\n",
            "Building wheels for collected packages: detectron2, fvcore, antlr4-python3-runtime\n",
            "  Building wheel for detectron2 (setup.py) ... \u001b[?25l\u001b[?25hdone\n",
            "  Created wheel for detectron2: filename=detectron2-0.6-cp310-cp310-linux_x86_64.whl size=6355060 sha256=33cd203a3e812e94972a569b24a11cee0cc31089f85c28557c2e5aa8a1667b24\n",
            "  Stored in directory: /tmp/pip-ephem-wheel-cache-nqoozfpo/wheels/47/e5/15/94c80df2ba85500c5d76599cc307c0a7079d0e221bb6fc4375\n",
            "  Building wheel for fvcore (setup.py) ... \u001b[?25l\u001b[?25hdone\n",
            "  Created wheel for fvcore: filename=fvcore-0.1.5.post20221221-py3-none-any.whl size=61396 sha256=453c63e2314669360e67a0691f3708f3bc9b47d58e3adb3d541b5f4aefc9db8c\n",
            "  Stored in directory: /root/.cache/pip/wheels/01/c0/af/77c1cf53a1be9e42a52b48e5af2169d40ec2e89f7362489dd0\n",
            "  Building wheel for antlr4-python3-runtime (setup.py) ... \u001b[?25l\u001b[?25hdone\n",
            "  Created wheel for antlr4-python3-runtime: filename=antlr4_python3_runtime-4.9.3-py3-none-any.whl size=144555 sha256=69136e8f7b7563c198f9b1acd09c3af659d137b25d25bd90683bcc9e13a372c2\n",
            "  Stored in directory: /root/.cache/pip/wheels/12/93/dd/1f6a127edc45659556564c5730f6d4e300888f4bca2d4c5a88\n",
            "Successfully built detectron2 fvcore antlr4-python3-runtime\n",
            "Installing collected packages: antlr4-python3-runtime, yacs, portalocker, pathspec, omegaconf, mypy-extensions, iopath, hydra-core, black, fvcore, detectron2\n",
            "Successfully installed antlr4-python3-runtime-4.9.3 black-24.10.0 detectron2-0.6 fvcore-0.1.5.post20221221 hydra-core-1.3.2 iopath-0.1.9 mypy-extensions-1.0.0 omegaconf-2.3.0 pathspec-0.12.1 portalocker-2.10.1 yacs-0.1.8\n",
            "Collecting git+https://github.com/facebookresearch/mobile-vision.git\n",
            "  Cloning https://github.com/facebookresearch/mobile-vision.git to /tmp/pip-req-build-tq1ijqxg\n",
            "  Running command git clone --filter=blob:none --quiet https://github.com/facebookresearch/mobile-vision.git /tmp/pip-req-build-tq1ijqxg\n",
            "  Resolved https://github.com/facebookresearch/mobile-vision.git to commit ee3a3c06ac9ab2034cc1d49e81d5f26d6dde6535\n",
            "  Preparing metadata (setup.py) ... \u001b[?25l\u001b[?25hdone\n",
            "Requirement already satisfied: iopath in /usr/local/lib/python3.10/dist-packages (from mobile_cv==0.1) (0.1.9)\n",
            "Collecting diskcache (from mobile_cv==0.1)\n",
            "  Downloading diskcache-5.6.3-py3-none-any.whl.metadata (20 kB)\n",
            "Requirement already satisfied: termcolor in /usr/local/lib/python3.10/dist-packages (from mobile_cv==0.1) (2.5.0)\n",
            "Requirement already satisfied: cloudpickle in /usr/local/lib/python3.10/dist-packages (from mobile_cv==0.1) (3.1.0)\n",
            "Requirement already satisfied: tabulate in /usr/local/lib/python3.10/dist-packages (from mobile_cv==0.1) (0.9.0)\n",
            "Requirement already satisfied: tqdm in /usr/local/lib/python3.10/dist-packages (from iopath->mobile_cv==0.1) (4.66.6)\n",
            "Requirement already satisfied: portalocker in /usr/local/lib/python3.10/dist-packages (from iopath->mobile_cv==0.1) (2.10.1)\n",
            "Downloading diskcache-5.6.3-py3-none-any.whl (45 kB)\n",
            "\u001b[2K   \u001b[90m━━━━━━━━━━━━━━━━━━━━━━━━━━━━━━━━━━━━━━━━\u001b[0m \u001b[32m45.5/45.5 kB\u001b[0m \u001b[31m3.1 MB/s\u001b[0m eta \u001b[36m0:00:00\u001b[0m\n",
            "\u001b[?25hBuilding wheels for collected packages: mobile_cv\n",
            "  Building wheel for mobile_cv (setup.py) ... \u001b[?25l\u001b[?25hdone\n",
            "  Created wheel for mobile_cv: filename=mobile_cv-0.1-py3-none-any.whl size=282939 sha256=7b24e581da2598c5fc65ca8691e1b26ec6c7c58f6ff472d10340cedd9aef3c88\n",
            "  Stored in directory: /tmp/pip-ephem-wheel-cache-no87ttlj/wheels/e2/21/03/4487088dd857e25da5055d13b7a56a64ee7e926889cb975fb2\n",
            "Successfully built mobile_cv\n",
            "Installing collected packages: diskcache, mobile_cv\n",
            "Successfully installed diskcache-5.6.3 mobile_cv-0.1\n",
            "Collecting pytorch_lightning\n",
            "  Downloading pytorch_lightning-2.4.0-py3-none-any.whl.metadata (21 kB)\n",
            "Requirement already satisfied: torch>=2.1.0 in /usr/local/lib/python3.10/dist-packages (from pytorch_lightning) (2.5.0+cu121)\n",
            "Requirement already satisfied: tqdm>=4.57.0 in /usr/local/lib/python3.10/dist-packages (from pytorch_lightning) (4.66.6)\n",
            "Requirement already satisfied: PyYAML>=5.4 in /usr/local/lib/python3.10/dist-packages (from pytorch_lightning) (6.0.2)\n",
            "Requirement already satisfied: fsspec>=2022.5.0 in /usr/local/lib/python3.10/dist-packages (from fsspec[http]>=2022.5.0->pytorch_lightning) (2024.10.0)\n",
            "Collecting torchmetrics>=0.7.0 (from pytorch_lightning)\n",
            "  Downloading torchmetrics-1.6.0-py3-none-any.whl.metadata (20 kB)\n",
            "Requirement already satisfied: packaging>=20.0 in /usr/local/lib/python3.10/dist-packages (from pytorch_lightning) (24.2)\n",
            "Requirement already satisfied: typing-extensions>=4.4.0 in /usr/local/lib/python3.10/dist-packages (from pytorch_lightning) (4.12.2)\n",
            "Collecting lightning-utilities>=0.10.0 (from pytorch_lightning)\n",
            "  Downloading lightning_utilities-0.11.8-py3-none-any.whl.metadata (5.2 kB)\n",
            "Requirement already satisfied: aiohttp!=4.0.0a0,!=4.0.0a1 in /usr/local/lib/python3.10/dist-packages (from fsspec[http]>=2022.5.0->pytorch_lightning) (3.10.10)\n",
            "Requirement already satisfied: setuptools in /usr/local/lib/python3.10/dist-packages (from lightning-utilities>=0.10.0->pytorch_lightning) (75.1.0)\n",
            "Requirement already satisfied: filelock in /usr/local/lib/python3.10/dist-packages (from torch>=2.1.0->pytorch_lightning) (3.16.1)\n",
            "Requirement already satisfied: networkx in /usr/local/lib/python3.10/dist-packages (from torch>=2.1.0->pytorch_lightning) (3.4.2)\n",
            "Requirement already satisfied: jinja2 in /usr/local/lib/python3.10/dist-packages (from torch>=2.1.0->pytorch_lightning) (3.1.4)\n",
            "Requirement already satisfied: sympy==1.13.1 in /usr/local/lib/python3.10/dist-packages (from torch>=2.1.0->pytorch_lightning) (1.13.1)\n",
            "Requirement already satisfied: mpmath<1.4,>=1.1.0 in /usr/local/lib/python3.10/dist-packages (from sympy==1.13.1->torch>=2.1.0->pytorch_lightning) (1.3.0)\n",
            "Requirement already satisfied: numpy>1.20.0 in /usr/local/lib/python3.10/dist-packages (from torchmetrics>=0.7.0->pytorch_lightning) (1.26.4)\n",
            "Requirement already satisfied: aiohappyeyeballs>=2.3.0 in /usr/local/lib/python3.10/dist-packages (from aiohttp!=4.0.0a0,!=4.0.0a1->fsspec[http]>=2022.5.0->pytorch_lightning) (2.4.3)\n",
            "Requirement already satisfied: aiosignal>=1.1.2 in /usr/local/lib/python3.10/dist-packages (from aiohttp!=4.0.0a0,!=4.0.0a1->fsspec[http]>=2022.5.0->pytorch_lightning) (1.3.1)\n",
            "Requirement already satisfied: attrs>=17.3.0 in /usr/local/lib/python3.10/dist-packages (from aiohttp!=4.0.0a0,!=4.0.0a1->fsspec[http]>=2022.5.0->pytorch_lightning) (24.2.0)\n",
            "Requirement already satisfied: frozenlist>=1.1.1 in /usr/local/lib/python3.10/dist-packages (from aiohttp!=4.0.0a0,!=4.0.0a1->fsspec[http]>=2022.5.0->pytorch_lightning) (1.5.0)\n",
            "Requirement already satisfied: multidict<7.0,>=4.5 in /usr/local/lib/python3.10/dist-packages (from aiohttp!=4.0.0a0,!=4.0.0a1->fsspec[http]>=2022.5.0->pytorch_lightning) (6.1.0)\n",
            "Requirement already satisfied: yarl<2.0,>=1.12.0 in /usr/local/lib/python3.10/dist-packages (from aiohttp!=4.0.0a0,!=4.0.0a1->fsspec[http]>=2022.5.0->pytorch_lightning) (1.17.1)\n",
            "Requirement already satisfied: async-timeout<5.0,>=4.0 in /usr/local/lib/python3.10/dist-packages (from aiohttp!=4.0.0a0,!=4.0.0a1->fsspec[http]>=2022.5.0->pytorch_lightning) (4.0.3)\n",
            "Requirement already satisfied: MarkupSafe>=2.0 in /usr/local/lib/python3.10/dist-packages (from jinja2->torch>=2.1.0->pytorch_lightning) (3.0.2)\n",
            "Requirement already satisfied: idna>=2.0 in /usr/local/lib/python3.10/dist-packages (from yarl<2.0,>=1.12.0->aiohttp!=4.0.0a0,!=4.0.0a1->fsspec[http]>=2022.5.0->pytorch_lightning) (3.10)\n",
            "Requirement already satisfied: propcache>=0.2.0 in /usr/local/lib/python3.10/dist-packages (from yarl<2.0,>=1.12.0->aiohttp!=4.0.0a0,!=4.0.0a1->fsspec[http]>=2022.5.0->pytorch_lightning) (0.2.0)\n",
            "Downloading pytorch_lightning-2.4.0-py3-none-any.whl (815 kB)\n",
            "\u001b[2K   \u001b[90m━━━━━━━━━━━━━━━━━━━━━━━━━━━━━━━━━━━━━━━━\u001b[0m \u001b[32m815.2/815.2 kB\u001b[0m \u001b[31m18.6 MB/s\u001b[0m eta \u001b[36m0:00:00\u001b[0m\n",
            "\u001b[?25hDownloading lightning_utilities-0.11.8-py3-none-any.whl (26 kB)\n",
            "Downloading torchmetrics-1.6.0-py3-none-any.whl (926 kB)\n",
            "\u001b[2K   \u001b[90m━━━━━━━━━━━━━━━━━━━━━━━━━━━━━━━━━━━━━━━━\u001b[0m \u001b[32m926.4/926.4 kB\u001b[0m \u001b[31m50.9 MB/s\u001b[0m eta \u001b[36m0:00:00\u001b[0m\n",
            "\u001b[?25hInstalling collected packages: lightning-utilities, torchmetrics, pytorch_lightning\n",
            "Successfully installed lightning-utilities-0.11.8 pytorch_lightning-2.4.0 torchmetrics-1.6.0\n"
          ]
        }
      ],
      "source": [
        "!python -m pip install 'git+https://github.com/facebookresearch/detectron2.git'\n",
        "!python -m pip install 'git+https://github.com/facebookresearch/mobile-vision.git'\n",
        "!pip install pytorch_lightning"
      ]
    },
    {
      "cell_type": "code",
      "execution_count": 7,
      "metadata": {
        "id": "X1tiiJK2MEf7",
        "colab": {
          "base_uri": "https://localhost:8080/"
        },
        "outputId": "3eb93259-b916-4dff-96c5-2d6a4a2db3be"
      },
      "outputs": [
        {
          "output_type": "stream",
          "name": "stdout",
          "text": [
            "Cloning into 'd2go'...\n",
            "remote: Enumerating objects: 351, done.\u001b[K\n",
            "remote: Counting objects: 100% (351/351), done.\u001b[K\n",
            "remote: Compressing objects: 100% (302/302), done.\u001b[K\n",
            "remote: Total 351 (delta 36), reused 344 (delta 33), pack-reused 0 (from 0)\u001b[K\n",
            "Receiving objects: 100% (351/351), 25.72 MiB | 17.74 MiB/s, done.\n",
            "Resolving deltas: 100% (36/36), done.\n",
            "mv: cannot move 'd2go-repo/sample_data' to './sample_data': Directory not empty\n",
            "Processing /content\n",
            "  Preparing metadata (setup.py) ... \u001b[?25l\u001b[?25hdone\n",
            "Collecting importlib (from d2go==0.0.1b20241114)\n",
            "  Downloading importlib-1.0.4.zip (7.1 kB)\n",
            "  Preparing metadata (setup.py) ... \u001b[?25l\u001b[?25hdone\n",
            "Requirement already satisfied: numpy in /usr/local/lib/python3.10/dist-packages (from d2go==0.0.1b20241114) (1.26.4)\n",
            "Requirement already satisfied: Pillow in /usr/local/lib/python3.10/dist-packages (from d2go==0.0.1b20241114) (11.0.0)\n",
            "Collecting mock (from d2go==0.0.1b20241114)\n",
            "  Downloading mock-5.1.0-py3-none-any.whl.metadata (3.0 kB)\n",
            "Requirement already satisfied: torch in /usr/local/lib/python3.10/dist-packages (from d2go==0.0.1b20241114) (2.5.0+cu121)\n",
            "Collecting pytorch-lightning==1.8.6 (from d2go==0.0.1b20241114)\n",
            "  Downloading pytorch_lightning-1.8.6-py3-none-any.whl.metadata (23 kB)\n",
            "Requirement already satisfied: opencv-python in /usr/local/lib/python3.10/dist-packages (from d2go==0.0.1b20241114) (4.10.0.84)\n",
            "Collecting parameterized (from d2go==0.0.1b20241114)\n",
            "  Downloading parameterized-0.9.0-py2.py3-none-any.whl.metadata (18 kB)\n",
            "Collecting protobuf==3.20.2 (from d2go==0.0.1b20241114)\n",
            "  Downloading protobuf-3.20.2-cp310-cp310-manylinux_2_12_x86_64.manylinux2010_x86_64.whl.metadata (679 bytes)\n",
            "Collecting torchtnt (from d2go==0.0.1b20241114)\n",
            "  Downloading torchtnt-0.2.4-py3-none-any.whl.metadata (3.1 kB)\n",
            "Requirement already satisfied: tqdm>=4.57.0 in /usr/local/lib/python3.10/dist-packages (from pytorch-lightning==1.8.6->d2go==0.0.1b20241114) (4.66.6)\n",
            "Requirement already satisfied: PyYAML>=5.4 in /usr/local/lib/python3.10/dist-packages (from pytorch-lightning==1.8.6->d2go==0.0.1b20241114) (6.0.2)\n",
            "Requirement already satisfied: fsspec>2021.06.0 in /usr/local/lib/python3.10/dist-packages (from fsspec[http]>2021.06.0->pytorch-lightning==1.8.6->d2go==0.0.1b20241114) (2024.10.0)\n",
            "Collecting tensorboardX>=2.2 (from pytorch-lightning==1.8.6->d2go==0.0.1b20241114)\n",
            "  Downloading tensorboardX-2.6.2.2-py2.py3-none-any.whl.metadata (5.8 kB)\n",
            "Requirement already satisfied: torchmetrics>=0.7.0 in /usr/local/lib/python3.10/dist-packages (from pytorch-lightning==1.8.6->d2go==0.0.1b20241114) (1.6.0)\n",
            "Requirement already satisfied: packaging>=17.0 in /usr/local/lib/python3.10/dist-packages (from pytorch-lightning==1.8.6->d2go==0.0.1b20241114) (24.2)\n",
            "Requirement already satisfied: typing-extensions>=4.0.0 in /usr/local/lib/python3.10/dist-packages (from pytorch-lightning==1.8.6->d2go==0.0.1b20241114) (4.12.2)\n",
            "Requirement already satisfied: lightning-utilities!=0.4.0,>=0.3.0 in /usr/local/lib/python3.10/dist-packages (from pytorch-lightning==1.8.6->d2go==0.0.1b20241114) (0.11.8)\n",
            "Requirement already satisfied: filelock in /usr/local/lib/python3.10/dist-packages (from torch->d2go==0.0.1b20241114) (3.16.1)\n",
            "Requirement already satisfied: networkx in /usr/local/lib/python3.10/dist-packages (from torch->d2go==0.0.1b20241114) (3.4.2)\n",
            "Requirement already satisfied: jinja2 in /usr/local/lib/python3.10/dist-packages (from torch->d2go==0.0.1b20241114) (3.1.4)\n",
            "Requirement already satisfied: sympy==1.13.1 in /usr/local/lib/python3.10/dist-packages (from torch->d2go==0.0.1b20241114) (1.13.1)\n",
            "Requirement already satisfied: mpmath<1.4,>=1.1.0 in /usr/local/lib/python3.10/dist-packages (from sympy==1.13.1->torch->d2go==0.0.1b20241114) (1.3.0)\n",
            "Requirement already satisfied: tensorboard in /usr/local/lib/python3.10/dist-packages (from torchtnt->d2go==0.0.1b20241114) (2.17.0)\n",
            "Requirement already satisfied: psutil in /usr/local/lib/python3.10/dist-packages (from torchtnt->d2go==0.0.1b20241114) (5.9.5)\n",
            "Collecting pyre-extensions (from torchtnt->d2go==0.0.1b20241114)\n",
            "  Downloading pyre_extensions-0.0.31-py3-none-any.whl.metadata (4.0 kB)\n",
            "Requirement already satisfied: setuptools in /usr/local/lib/python3.10/dist-packages (from torchtnt->d2go==0.0.1b20241114) (75.1.0)\n",
            "Requirement already satisfied: tabulate in /usr/local/lib/python3.10/dist-packages (from torchtnt->d2go==0.0.1b20241114) (0.9.0)\n",
            "Requirement already satisfied: aiohttp!=4.0.0a0,!=4.0.0a1 in /usr/local/lib/python3.10/dist-packages (from fsspec[http]>2021.06.0->pytorch-lightning==1.8.6->d2go==0.0.1b20241114) (3.10.10)\n",
            "Requirement already satisfied: MarkupSafe>=2.0 in /usr/local/lib/python3.10/dist-packages (from jinja2->torch->d2go==0.0.1b20241114) (3.0.2)\n",
            "Collecting typing-inspect (from pyre-extensions->torchtnt->d2go==0.0.1b20241114)\n",
            "  Downloading typing_inspect-0.9.0-py3-none-any.whl.metadata (1.5 kB)\n",
            "Requirement already satisfied: absl-py>=0.4 in /usr/local/lib/python3.10/dist-packages (from tensorboard->torchtnt->d2go==0.0.1b20241114) (1.4.0)\n",
            "Requirement already satisfied: grpcio>=1.48.2 in /usr/local/lib/python3.10/dist-packages (from tensorboard->torchtnt->d2go==0.0.1b20241114) (1.67.1)\n",
            "Requirement already satisfied: markdown>=2.6.8 in /usr/local/lib/python3.10/dist-packages (from tensorboard->torchtnt->d2go==0.0.1b20241114) (3.7)\n",
            "Requirement already satisfied: six>1.9 in /usr/local/lib/python3.10/dist-packages (from tensorboard->torchtnt->d2go==0.0.1b20241114) (1.16.0)\n",
            "Requirement already satisfied: tensorboard-data-server<0.8.0,>=0.7.0 in /usr/local/lib/python3.10/dist-packages (from tensorboard->torchtnt->d2go==0.0.1b20241114) (0.7.2)\n",
            "Requirement already satisfied: werkzeug>=1.0.1 in /usr/local/lib/python3.10/dist-packages (from tensorboard->torchtnt->d2go==0.0.1b20241114) (3.1.3)\n",
            "Requirement already satisfied: aiohappyeyeballs>=2.3.0 in /usr/local/lib/python3.10/dist-packages (from aiohttp!=4.0.0a0,!=4.0.0a1->fsspec[http]>2021.06.0->pytorch-lightning==1.8.6->d2go==0.0.1b20241114) (2.4.3)\n",
            "Requirement already satisfied: aiosignal>=1.1.2 in /usr/local/lib/python3.10/dist-packages (from aiohttp!=4.0.0a0,!=4.0.0a1->fsspec[http]>2021.06.0->pytorch-lightning==1.8.6->d2go==0.0.1b20241114) (1.3.1)\n",
            "Requirement already satisfied: attrs>=17.3.0 in /usr/local/lib/python3.10/dist-packages (from aiohttp!=4.0.0a0,!=4.0.0a1->fsspec[http]>2021.06.0->pytorch-lightning==1.8.6->d2go==0.0.1b20241114) (24.2.0)\n",
            "Requirement already satisfied: frozenlist>=1.1.1 in /usr/local/lib/python3.10/dist-packages (from aiohttp!=4.0.0a0,!=4.0.0a1->fsspec[http]>2021.06.0->pytorch-lightning==1.8.6->d2go==0.0.1b20241114) (1.5.0)\n",
            "Requirement already satisfied: multidict<7.0,>=4.5 in /usr/local/lib/python3.10/dist-packages (from aiohttp!=4.0.0a0,!=4.0.0a1->fsspec[http]>2021.06.0->pytorch-lightning==1.8.6->d2go==0.0.1b20241114) (6.1.0)\n",
            "Requirement already satisfied: yarl<2.0,>=1.12.0 in /usr/local/lib/python3.10/dist-packages (from aiohttp!=4.0.0a0,!=4.0.0a1->fsspec[http]>2021.06.0->pytorch-lightning==1.8.6->d2go==0.0.1b20241114) (1.17.1)\n",
            "Requirement already satisfied: async-timeout<5.0,>=4.0 in /usr/local/lib/python3.10/dist-packages (from aiohttp!=4.0.0a0,!=4.0.0a1->fsspec[http]>2021.06.0->pytorch-lightning==1.8.6->d2go==0.0.1b20241114) (4.0.3)\n",
            "Requirement already satisfied: mypy-extensions>=0.3.0 in /usr/local/lib/python3.10/dist-packages (from typing-inspect->pyre-extensions->torchtnt->d2go==0.0.1b20241114) (1.0.0)\n",
            "Requirement already satisfied: idna>=2.0 in /usr/local/lib/python3.10/dist-packages (from yarl<2.0,>=1.12.0->aiohttp!=4.0.0a0,!=4.0.0a1->fsspec[http]>2021.06.0->pytorch-lightning==1.8.6->d2go==0.0.1b20241114) (3.10)\n",
            "Requirement already satisfied: propcache>=0.2.0 in /usr/local/lib/python3.10/dist-packages (from yarl<2.0,>=1.12.0->aiohttp!=4.0.0a0,!=4.0.0a1->fsspec[http]>2021.06.0->pytorch-lightning==1.8.6->d2go==0.0.1b20241114) (0.2.0)\n",
            "Downloading protobuf-3.20.2-cp310-cp310-manylinux_2_12_x86_64.manylinux2010_x86_64.whl (1.1 MB)\n",
            "\u001b[2K   \u001b[90m━━━━━━━━━━━━━━━━━━━━━━━━━━━━━━━━━━━━━━━━\u001b[0m \u001b[32m1.1/1.1 MB\u001b[0m \u001b[31m26.2 MB/s\u001b[0m eta \u001b[36m0:00:00\u001b[0m\n",
            "\u001b[?25hDownloading pytorch_lightning-1.8.6-py3-none-any.whl (800 kB)\n",
            "\u001b[2K   \u001b[90m━━━━━━━━━━━━━━━━━━━━━━━━━━━━━━━━━━━━━━━━\u001b[0m \u001b[32m800.3/800.3 kB\u001b[0m \u001b[31m52.6 MB/s\u001b[0m eta \u001b[36m0:00:00\u001b[0m\n",
            "\u001b[?25hDownloading mock-5.1.0-py3-none-any.whl (30 kB)\n",
            "Downloading parameterized-0.9.0-py2.py3-none-any.whl (20 kB)\n",
            "Downloading torchtnt-0.2.4-py3-none-any.whl (163 kB)\n",
            "\u001b[2K   \u001b[90m━━━━━━━━━━━━━━━━━━━━━━━━━━━━━━━━━━━━━━━━\u001b[0m \u001b[32m163.5/163.5 kB\u001b[0m \u001b[31m16.3 MB/s\u001b[0m eta \u001b[36m0:00:00\u001b[0m\n",
            "\u001b[?25hDownloading tensorboardX-2.6.2.2-py2.py3-none-any.whl (101 kB)\n",
            "\u001b[2K   \u001b[90m━━━━━━━━━━━━━━━━━━━━━━━━━━━━━━━━━━━━━━━━\u001b[0m \u001b[32m101.7/101.7 kB\u001b[0m \u001b[31m10.3 MB/s\u001b[0m eta \u001b[36m0:00:00\u001b[0m\n",
            "\u001b[?25hDownloading pyre_extensions-0.0.31-py3-none-any.whl (12 kB)\n",
            "Downloading typing_inspect-0.9.0-py3-none-any.whl (8.8 kB)\n",
            "Building wheels for collected packages: d2go, importlib\n",
            "  Building wheel for d2go (setup.py) ... \u001b[?25l\u001b[?25hdone\n",
            "  Created wheel for d2go: filename=d2go-0.0.1b20241114-py3-none-any.whl size=385509 sha256=e81a8670d5ba233330c8dd317caddb44bacd6b5eccc1c613a34a2d72921bfb80\n",
            "  Stored in directory: /tmp/pip-ephem-wheel-cache-7ipplhef/wheels/e8/d3/96/0e8c7135806cbda4db28d12fc8d710e5e4f66ced1411163e67\n",
            "  Building wheel for importlib (setup.py) ... \u001b[?25l\u001b[?25hdone\n",
            "  Created wheel for importlib: filename=importlib-1.0.4-py3-none-any.whl size=5850 sha256=df2c7b1c554f81ed1a707f841f75985d4c7d08e2cb8b5e581f234bffb5077109\n",
            "  Stored in directory: /root/.cache/pip/wheels/0f/77/67/b2657372b2523148d81dcdd875916a417f047849169567cb2e\n",
            "Successfully built d2go importlib\n",
            "Installing collected packages: importlib, typing-inspect, protobuf, parameterized, mock, tensorboardX, pyre-extensions, torchtnt, pytorch-lightning, d2go\n",
            "  Attempting uninstall: protobuf\n",
            "    Found existing installation: protobuf 4.25.5\n",
            "    Uninstalling protobuf-4.25.5:\n",
            "      Successfully uninstalled protobuf-4.25.5\n",
            "  Attempting uninstall: pytorch-lightning\n",
            "    Found existing installation: pytorch-lightning 2.4.0\n",
            "    Uninstalling pytorch-lightning-2.4.0:\n",
            "      Successfully uninstalled pytorch-lightning-2.4.0\n",
            "\u001b[31mERROR: pip's dependency resolver does not currently take into account all the packages that are installed. This behaviour is the source of the following dependency conflicts.\n",
            "grpcio-status 1.62.3 requires protobuf>=4.21.6, but you have protobuf 3.20.2 which is incompatible.\n",
            "tensorflow 2.17.0 requires protobuf!=4.21.0,!=4.21.1,!=4.21.2,!=4.21.3,!=4.21.4,!=4.21.5,<5.0.0dev,>=3.20.3, but you have protobuf 3.20.2 which is incompatible.\n",
            "tensorflow-metadata 1.13.1 requires protobuf<5,>=3.20.3, but you have protobuf 3.20.2 which is incompatible.\u001b[0m\u001b[31m\n",
            "\u001b[0mSuccessfully installed d2go-0.0.1b20241114 importlib-1.0.4 mock-5.1.0 parameterized-0.9.0 protobuf-3.20.2 pyre-extensions-0.0.31 pytorch-lightning-1.8.6 tensorboardX-2.6.2.2 torchtnt-0.2.4 typing-inspect-0.9.0\n"
          ]
        }
      ],
      "source": [
        "# clone D2Go源码\n",
        "!git clone https://github.com/Chunshan-Theta/d2go.git\n",
        "# 移動資料\n",
        "!mv d2go d2go-repo\n",
        "!mv d2go-repo/* .\n",
        "!rm -rf d2go-repo\n",
        "\n",
        "# 安装\n",
        "!python -m pip install .\n"
      ]
    },
    {
      "cell_type": "markdown",
      "source": [
        "# 測試\n"
      ],
      "metadata": {
        "id": "-wWmoY-_xg4i"
      }
    },
    {
      "cell_type": "code",
      "source": [
        "!mkdir playground\n",
        "!cp tools/newtrain4/faster_rcnn_fbnetv3a_dsmask_C4.yaml ./playground/faster_rcnn_fbnetv3a_dsmask_C4.yaml\n",
        "!cp tools/newtrain4/output/model_0714999.pth ./playground/model_0714999.pth\n",
        "!cp tools/eval/10.jpeg ./playground/10.jpeg\n",
        "!cp tools/eval/demo.py ./playground/demo.py\n"
      ],
      "metadata": {
        "colab": {
          "base_uri": "https://localhost:8080/"
        },
        "id": "HsUt7Kp-Ncpv",
        "outputId": "496cb27e-5acb-4e29-a255-13d51ba08a6d"
      },
      "execution_count": 8,
      "outputs": [
        {
          "output_type": "stream",
          "name": "stdout",
          "text": [
            "mkdir: cannot create directory ‘playground’: File exists\n"
          ]
        }
      ]
    },
    {
      "cell_type": "code",
      "source": [
        "!python playground/demo.py --config-file playground/faster_rcnn_fbnetv3a_dsmask_C4.yaml  --ckp-file playground/model_0714999.pth --confidence-threshold 0.1 --input playground/10.jpeg --out playground/o-10.jpeg\n"
      ],
      "metadata": {
        "colab": {
          "base_uri": "https://localhost:8080/"
        },
        "id": "hv9QoCXRNt2w",
        "outputId": "dd0a51c1-ad6e-4282-c316-77916fa79e55"
      },
      "execution_count": 9,
      "outputs": [
        {
          "output_type": "stream",
          "name": "stdout",
          "text": [
            "\u001b[32m[11/14 06:08:18 detectron2]: \u001b[0mArguments: Namespace(config_file='playground/faster_rcnn_fbnetv3a_dsmask_C4.yaml', ckp_file='playground/model_0714999.pth', webcam=False, video_input=None, input=['playground/10.jpeg'], output='playground/o-10.jpeg', confidence_threshold=0.1, opts=[])\n",
            "INFO:d2go.runner.default_runner:Initializing control pg\n",
            "INFO:d2go.modeling.backbone.fbnet_v2:Using un-unified arch_def for ARCH \"FBNetV3_A_dsmask\" (without scaling):\n",
            "trunk\n",
            "- [('conv_k3', 16, 2, 1), ('ir_k3', 16, 1, 1, {'expansion': 1}, {'less_se_channels': False})]\n",
            "- [('ir_k5', 32, 2, 1, {'expansion': 4}, {'less_se_channels': False}), ('ir_k5', 32, 1, 1, {'expansion': 2}, {'less_se_channels': False})]\n",
            "- [('ir_k5', 40, 2, 1, {'expansion': 4}, {'less_se_channels': False}), ('ir_k3', 40, 1, 3, {'expansion': 3}, {'less_se_channels': False})]\n",
            "- [('ir_k5', 72, 2, 1, {'expansion': 4}, {'less_se_channels': False}), ('ir_k3', 72, 1, 3, {'expansion': 3}, {'less_se_channels': False}), ('ir_k5', 112, 1, 1, {'expansion': 4}, {'less_se_channels': False}), ('ir_k5', 112, 1, 3, {'expansion': 4}, {'less_se_channels': False})]\n",
            "rpn\n",
            "- [('ir_k5', 112, 1, 3, {'expansion': 4}, {'less_se_channels': False})]\n",
            "bbox\n",
            "- [('ir_k3', 128, 2, 1, {'expansion': 4}), ('ir_k3', 128, 1, 2, {'expansion': 6}), ('ir_k3', 160, 1, 1, {'expansion': 6})]\n",
            "mask\n",
            "- [('ir_k3', 128, 2, 1, {'expansion': 4}), ('ir_k3', 128, 1, 2, {'expansion': 6}), ('ir_k3', 128, -2, 1, {'expansion': 6}), ('ir_k3', 64, -2, 1, {'expansion': 3})]\n",
            "kpts\n",
            "- [('ir_k3', 128, 2, 1, {'expansion': 4}), ('ir_k3', 128, 1, 2, {'expansion': 6}), ('ir_k3', 128, -2, 1, {'expansion': 6}), ('ir_k3', 64, -2, 1, {'expansion': 3})]\n",
            "basic_args\n",
            "  {'dw_skip_bnrelu': True, 'zero_last_bn_gamma': False}\n",
            "INFO:d2go.modeling.backbone.fbnet_v2:Build FBNet using unified arch_def:\n",
            "trunk\n",
            "- {'block_op': 'conv_k3', 'block_cfg': {'out_channels': 16, 'stride': 2}, 'stage_idx': 0, 'block_idx': 0}\n",
            "- {'block_op': 'ir_k3', 'block_cfg': {'out_channels': 16, 'stride': 1, 'expansion': 1, 'less_se_channels': False}, 'stage_idx': 0, 'block_idx': 1}\n",
            "- {'block_op': 'ir_k5', 'block_cfg': {'out_channels': 32, 'stride': 2, 'expansion': 4, 'less_se_channels': False}, 'stage_idx': 1, 'block_idx': 0}\n",
            "- {'block_op': 'ir_k5', 'block_cfg': {'out_channels': 32, 'stride': 1, 'expansion': 2, 'less_se_channels': False}, 'stage_idx': 1, 'block_idx': 1}\n",
            "- {'block_op': 'ir_k5', 'block_cfg': {'out_channels': 40, 'stride': 2, 'expansion': 4, 'less_se_channels': False}, 'stage_idx': 2, 'block_idx': 0}\n",
            "- {'block_op': 'ir_k3', 'block_cfg': {'out_channels': 40, 'stride': 1, 'expansion': 3, 'less_se_channels': False}, 'stage_idx': 2, 'block_idx': 1}\n",
            "- {'block_op': 'ir_k3', 'block_cfg': {'out_channels': 40, 'stride': 1, 'expansion': 3, 'less_se_channels': False}, 'stage_idx': 2, 'block_idx': 2}\n",
            "- {'block_op': 'ir_k3', 'block_cfg': {'out_channels': 40, 'stride': 1, 'expansion': 3, 'less_se_channels': False}, 'stage_idx': 2, 'block_idx': 3}\n",
            "- {'block_op': 'ir_k5', 'block_cfg': {'out_channels': 72, 'stride': 2, 'expansion': 4, 'less_se_channels': False}, 'stage_idx': 3, 'block_idx': 0}\n",
            "- {'block_op': 'ir_k3', 'block_cfg': {'out_channels': 72, 'stride': 1, 'expansion': 3, 'less_se_channels': False}, 'stage_idx': 3, 'block_idx': 1}\n",
            "- {'block_op': 'ir_k3', 'block_cfg': {'out_channels': 72, 'stride': 1, 'expansion': 3, 'less_se_channels': False}, 'stage_idx': 3, 'block_idx': 2}\n",
            "- {'block_op': 'ir_k3', 'block_cfg': {'out_channels': 72, 'stride': 1, 'expansion': 3, 'less_se_channels': False}, 'stage_idx': 3, 'block_idx': 3}\n",
            "- {'block_op': 'ir_k5', 'block_cfg': {'out_channels': 112, 'stride': 1, 'expansion': 4, 'less_se_channels': False}, 'stage_idx': 3, 'block_idx': 4}\n",
            "- {'block_op': 'ir_k5', 'block_cfg': {'out_channels': 112, 'stride': 1, 'expansion': 4, 'less_se_channels': False}, 'stage_idx': 3, 'block_idx': 5}\n",
            "- {'block_op': 'ir_k5', 'block_cfg': {'out_channels': 112, 'stride': 1, 'expansion': 4, 'less_se_channels': False}, 'stage_idx': 3, 'block_idx': 6}\n",
            "- {'block_op': 'ir_k5', 'block_cfg': {'out_channels': 112, 'stride': 1, 'expansion': 4, 'less_se_channels': False}, 'stage_idx': 3, 'block_idx': 7}\n",
            "WARNING:mobile_cv.arch.utils.helper:Arguments ['width_divisor', 'dw_skip_bnrelu', 'zero_last_bn_gamma'] skipped for op Conv2d\n",
            "INFO:d2go.modeling.backbone.fbnet_v2:Build FBNet using unified arch_def:\n",
            "rpn\n",
            "- {'block_op': 'ir_k5', 'block_cfg': {'out_channels': 112, 'stride': 1, 'expansion': 4, 'less_se_channels': False}, 'stage_idx': 0, 'block_idx': 0}\n",
            "- {'block_op': 'ir_k5', 'block_cfg': {'out_channels': 112, 'stride': 1, 'expansion': 4, 'less_se_channels': False}, 'stage_idx': 0, 'block_idx': 1}\n",
            "- {'block_op': 'ir_k5', 'block_cfg': {'out_channels': 112, 'stride': 1, 'expansion': 4, 'less_se_channels': False}, 'stage_idx': 0, 'block_idx': 2}\n",
            "INFO:d2go.modeling.backbone.fbnet_v2:Build FBNet using unified arch_def:\n",
            "bbox\n",
            "- {'block_op': 'ir_k3', 'block_cfg': {'out_channels': 128, 'stride': 2, 'expansion': 4}, 'stage_idx': 0, 'block_idx': 0}\n",
            "- {'block_op': 'ir_k3', 'block_cfg': {'out_channels': 128, 'stride': 1, 'expansion': 6}, 'stage_idx': 0, 'block_idx': 1}\n",
            "- {'block_op': 'ir_k3', 'block_cfg': {'out_channels': 128, 'stride': 1, 'expansion': 6}, 'stage_idx': 0, 'block_idx': 2}\n",
            "- {'block_op': 'ir_k3', 'block_cfg': {'out_channels': 160, 'stride': 1, 'expansion': 6}, 'stage_idx': 0, 'block_idx': 3}\n",
            "INFO:d2go.modeling.ema:Using Model EMA.\n",
            "INFO:d2go.checkpoint.log_checkpoint:Checkpoint:1813913575 load begin \n",
            "\u001b[32m[11/14 06:08:19 d2.checkpoint.detection_checkpoint]: \u001b[0m[DetectionCheckpointer] Loading from playground/model_0714999.pth ...\n",
            "\u001b[32m[11/14 06:08:19 fvcore.common.checkpoint]: \u001b[0m[Checkpointer] Loading from playground/model_0714999.pth ...\n",
            "/usr/local/lib/python3.10/dist-packages/d2go/quantization/modeling.py:105: FutureWarning: You are using `torch.load` with `weights_only=False` (the current default value), which uses the default pickle module implicitly. It is possible to construct malicious pickle data which will execute arbitrary code during unpickling (See https://github.com/pytorch/pytorch/blob/main/SECURITY.md#untrusted-models for more details). In a future release, the default value for `weights_only` will be flipped to `True`. This limits the functions that could be executed during unpickling. Arbitrary objects will no longer be allowed to be loaded via this mode unless they are explicitly allowlisted by the user via `torch.serialization.add_safe_globals`. We recommend you start setting `weights_only=True` for any use case where you don't have full control of the loaded file. Please open an issue on GitHub for any issues related to this experimental feature.\n",
            "  return torch.load(f, map_location=torch.device(device))\n",
            "\u001b[32m[11/14 06:08:19 fvcore.common.checkpoint]: \u001b[0mLoading ema_state from playground/model_0714999.pth ...\n",
            "INFO:d2go.checkpoint.log_checkpoint:Checkpoint:1813913575 load end \n",
            "  0% 0/1 [00:00<?, ?it/s]/usr/local/lib/python3.10/dist-packages/torch/functional.py:534: UserWarning: torch.meshgrid: in an upcoming release, it will be required to pass the indexing argument. (Triggered internally at ../aten/src/ATen/native/TensorShape.cpp:3595.)\n",
            "  return _VF.meshgrid(tensors, **kwargs)  # type: ignore[attr-defined]\n",
            "\u001b[32m[11/14 06:08:21 detectron2]: \u001b[0mplayground/10.jpeg: detected 2 instances in 2.37s\n",
            "\u001b[32m[11/14 06:08:21 detectron2]: \u001b[0m{'instances': Instances(num_instances=2, image_height=290, image_width=800, fields=[pred_boxes: Boxes(tensor([[ 17.8443,  40.0071, 372.1644, 279.6035],\n",
            "        [  7.7209,   5.8854, 793.0519, 280.6299]], device='cuda:0')), scores: tensor([0.9536, 0.5127], device='cuda:0'), pred_classes: tensor([1, 0], device='cuda:0')])}\n",
            "100% 1/1 [00:02<00:00,  2.57s/it]\n"
          ]
        }
      ]
    },
    {
      "cell_type": "markdown",
      "source": [
        "# 量化實驗"
      ],
      "metadata": {
        "id": "jynh1YRwRHlT"
      }
    },
    {
      "cell_type": "code",
      "source": [
        "!mkdir ./playground/eval_wo_input\n",
        "!mkdir ./playground/eval_wo_output\n",
        "!mkdir ./playground/eval_w_input/\n",
        "!mkdir ./playground/eval_w_output/"
      ],
      "metadata": {
        "colab": {
          "base_uri": "https://localhost:8080/"
        },
        "id": "Y_muWqDATc_2",
        "outputId": "16d2a8af-f053-4bfd-e36d-61ce05bf0d84"
      },
      "execution_count": 24,
      "outputs": [
        {
          "output_type": "stream",
          "name": "stdout",
          "text": [
            "mkdir: cannot create directory ‘./playground/eval_wo_input’: File exists\n",
            "mkdir: cannot create directory ‘./playground/eval_wo_output’: File exists\n",
            "mkdir: cannot create directory ‘./playground/eval_w_input/’: File exists\n",
            "mkdir: cannot create directory ‘./playground/eval_w_output/’: File exists\n"
          ]
        }
      ]
    },
    {
      "cell_type": "markdown",
      "source": [
        "### 準備正負樣本集\n"
      ],
      "metadata": {
        "id": "HNhM3YQUbJv0"
      }
    },
    {
      "cell_type": "code",
      "source": [
        "import os\n",
        "import subprocess\n",
        "import glob\n",
        "\n",
        "# 指定圖片資料夾的路徑\n",
        "folder_path = \"./playground/eval_wo_input\"\n",
        "folder_out_path = \"./playground/eval_wo_output\"\n",
        "\n",
        "# 支援的圖片格式\n",
        "image_formats = [\"*.jpg\", \"*.jpeg\", \"*.png\", \"*.gif\", \"*.bmp\", \"*.tiff\"]\n",
        "\n",
        "# 確保輸出資料夾存在\n",
        "os.makedirs(folder_out_path, exist_ok=True)\n",
        "\n",
        "# 遍歷所有格式的圖片檔案並列出路徑\n",
        "for image_format in image_formats:\n",
        "    for image_file in glob.glob(os.path.join(folder_path, image_format)):\n",
        "        # 檢查檔案是否存在\n",
        "        print(f\"image_file: {image_file}\")\n",
        "        if os.path.isfile(image_file):\n",
        "            # 提取檔案名稱\n",
        "            filename = os.path.basename(image_file)\n",
        "            output_image = os.path.join(folder_out_path, f\"o-{filename}\")\n",
        "            output_text = os.path.join(folder_out_path, f\"o-{os.path.splitext(filename)[0]}.txt\")\n",
        "            output_error_text = os.path.join(folder_out_path, f\"o-{os.path.splitext(filename)[0]}-error.txt\")\n",
        "\n",
        "            # 執行指令\n",
        "            subprocess.run([\n",
        "                \"python\", \"./playground/demo.py\",\n",
        "                \"--config-file\", \"./playground/faster_rcnn_fbnetv3a_dsmask_C4.yaml\",\n",
        "                \"--ckp-file\", \"./playground/model_0714999.pth\",\n",
        "                \"--confidence-threshold\", \"0.001\",\n",
        "                \"--input\", image_file,\n",
        "                \"--out\", output_image\n",
        "            ], stdout=open(output_text, \"w\"), stderr=open(output_error_text, \"w\"))\n"
      ],
      "metadata": {
        "colab": {
          "base_uri": "https://localhost:8080/"
        },
        "id": "XWJkPB8STIww",
        "outputId": "08fda177-b600-4a6b-e34d-a318e7d2f50c"
      },
      "execution_count": null,
      "outputs": [
        {
          "output_type": "stream",
          "name": "stdout",
          "text": [
            "image_file: ./playground/eval_wo_input/YzQ2MmU5NThmYTBlYzM0YjlhYzI0MjA3YmViNTdjMzIuanBlZw==.jpeg\n",
            "image_file: ./playground/eval_wo_input/MmUwYjJkMGIyNGNjN2U0YTRkMDMxYzFjMzM2ZGMwNWEuanBlZw==.jpeg\n",
            "image_file: ./playground/eval_wo_input/OGNhNGRjYjg0OTU2YWQwYTY4ZWU3YjQwMzQ2NzJkNTMuanBlZw==.jpeg\n",
            "image_file: ./playground/eval_wo_input/MTM3MGRmNGJjYmM5NTZlZmE1Y2VkMjhkZGMwZmIzOWQuanBn.jpeg\n",
            "image_file: ./playground/eval_wo_input/OWU3MzgwNzM3MmQ2MDNjNjQ2YWRhN2Y3OWIwMjk4NzcuanBlZw==.jpeg\n",
            "image_file: ./playground/eval_wo_input/YjhmYmVlNjQ2NmE5ODM0NTM1NjUyMGUxM2I2NmNkMzQuanBlZw==.jpeg\n",
            "image_file: ./playground/eval_wo_input/Zjc0MGM1OGNkODg3ZjhkZmYzOTRlOTU1ZWQxNTYxYWUuanBnP3dpZHRoPTYzOCZoZWlnaHQ9MzM5.jpeg\n",
            "image_file: ./playground/eval_wo_input/NzA0NDNkZjFjYjkyMjEyMzk0MmMzZDg3YWJmZDk0MjYuanBlZw==.jpeg\n",
            "image_file: ./playground/eval_wo_input/ZGNkNjI4ZTM4ZjBkZDg3MDQzOGQ3NGYzMzQ5ZTMyN2YuanBlZw==.jpeg\n",
            "image_file: ./playground/eval_wo_input/MjQwOWVhMThjOTQyMjFmOWViMzllMGJiMmUyNDQyZDkuanBlZw==.jpeg\n",
            "image_file: ./playground/eval_wo_input/NzM5NThhYTJhZTEyZGFkMzhkZDY2MjE3MGM0MTA2MmUuanBlZw==.jpeg\n",
            "image_file: ./playground/eval_wo_input/YWE1ZThiODdlNmU4MmZlODMxMzViMGE0OGQ0NjA2MTMuanBlZw==.jpeg\n",
            "image_file: ./playground/eval_wo_input/NTI0MmZhOTFiYWI0MjgxMDIyM2I5M2I5MDBiMDliMzMuanBlZw==.jpeg\n",
            "image_file: ./playground/eval_wo_input/OTFiZDdjOWQxNzVlOWQwOTRjMzZlNjljMjE0MzcyY2QuanBlZw==.jpeg\n",
            "image_file: ./playground/eval_wo_input/ODliNTI0ZDkxZjZlOGE4NTU2NjEzMWNhMjUyNGNhYTcuanBnP3dpZHRoPTY0OCZoZWlnaHQ9Mzg4.jpeg\n",
            "image_file: ./playground/eval_wo_input/ZTZkYWMwNzZlYmIxNjQ1MWMxMGZhMTkxMzc0ODk2MzcuanBlZw==.jpeg\n",
            "image_file: ./playground/eval_wo_input/Mzc4OWZlZjkyNWNkNzNlZWNjMDAyM2Q5NmU2NzEyNjUuanBlZw==.jpeg\n",
            "image_file: ./playground/eval_wo_input/M2M2M2I3MTBlNDEwNmZkMDU1NDVjNDllMTg3ODBmZjYuanBlZw==.jpeg\n",
            "image_file: ./playground/eval_wo_input/M2Q2OTlhM2IxZDRhYTgwMzljMjFlZmQzODhlMTE0ZGYuanBlZw==.jpeg\n",
            "image_file: ./playground/eval_wo_input/OTI2NzY2ZTM2YzQxOTQ4OTY4ZWRhNDc4NDEyYzZlZDcuanBlZw==.jpeg\n",
            "image_file: ./playground/eval_wo_input/OTdkNjJkNjg3NjdlNWVmMDIzZjI2OGViNWU3M2I2MjUuanBlZw==.jpeg\n",
            "image_file: ./playground/eval_wo_input/NGUyZWVhYmNhZDBhOTVmODI5YWU3Y2RhNDkzZTFkNjMuanBlZw==.jpeg\n",
            "image_file: ./playground/eval_wo_input/ZjFkMGUyNmMzZGVkY2Q5MTY5NTIwMjc3ZDg5NmVlMzAuanBlZw==.jpeg\n",
            "image_file: ./playground/eval_wo_input/M2E0Yjg4M2I5NDJjMDE4MjljODQ5ZjE5ZjczNzI1NjQuanBlZw==.jpeg\n",
            "image_file: ./playground/eval_wo_input/NjBiNzVkMTM2NDI4NmYyOTYzZDU1NDNiMDJjMDhjZDAuanBlZw==.jpeg\n",
            "image_file: ./playground/eval_wo_input/MzFkYTYzNjhhOGUwOTczMjgyMmJlZWI0NGYyYzE2MzYuanBlZw==.jpeg\n",
            "image_file: ./playground/eval_wo_input/ZDZmNmQ2MWY1YmY3NmM4Yjk3YThkYTNmOWVkZTgyNTYuanBlZw==.jpeg\n",
            "image_file: ./playground/eval_wo_input/M2UzYjc5NGYzNzY3MzI5ZmVmOWZlYzJhYjc1ZTIxOTMuanBlZw==.jpeg\n",
            "image_file: ./playground/eval_wo_input/YzU1MTdmNWRlMTIyMjZmNjcwNWI3YmY0ZjVhMjYwMTguanBlZw==.jpeg\n",
            "image_file: ./playground/eval_wo_input/NDk5MGExOGRlNWFmZTljOTZlNjBkMzQ3Nzc3YmZiMDkuanBlZw==.jpeg\n",
            "image_file: ./playground/eval_wo_input/OTczOTY0YjdiODM3ZGUxYjFjMGE0MjA0ZDQ2OWQzZWUuanBlZw==.jpeg\n",
            "image_file: ./playground/eval_wo_input/MDRhZDk5NzBiZDQwNGRlMTQxODk2NTQ5NTFkNTYxMzUuanBn.jpeg\n",
            "image_file: ./playground/eval_wo_input/ZWNmNjM1ZjYyODE3OWE0NDI5MTlkMGRlMDUwOTkwN2YuanBlZw==.jpeg\n"
          ]
        }
      ]
    },
    {
      "cell_type": "markdown",
      "source": [
        "### 計算正負樣本集結果"
      ],
      "metadata": {
        "id": "7IRiN9cIbPnW"
      }
    },
    {
      "cell_type": "code",
      "source": [
        "import re\n",
        "import json\n",
        "\n",
        "def extract_image_info(input_str):\n",
        "    image_info = {\n",
        "        \"pred_classes\": None\n",
        "    }\n",
        "    # 使用正則表達式來搜尋 pred_classes 的數值\n",
        "    match = str(re.search(r\"pred_classes: tensor\\(\\[(.*)\\]\", input_str))\n",
        "    if match:\n",
        "        match = re.search(r\"pred_classes: tensor\\(\\[([0-9, ]+)\\]\", match)\n",
        "        if match:\n",
        "            image_info['pred_classes'] = list(map(int, match.group(1).split(',')))\n",
        "    return image_info\n",
        "\n",
        "# 測試\n",
        "input_str = \"[11/14 06:25:02 detectron2]: {'instances': Instances(num_instances=1, image_height=135, image_width=758, fields=[pred_boxes: Boxes(tensor([[0.0000e+00, 3.3107e-01, 7.2986e+02, 1.3133e+02]], device='cuda:0')), scores: tensor([0.3046], device='cuda:0'), pred_classes: tensor([0], device='cuda:0')])}\"\n",
        "image_info = extract_image_info(input_str)\n",
        "print(\"image_info:\", image_info)\n"
      ],
      "metadata": {
        "id": "Zm7kv12WXn_I"
      },
      "execution_count": null,
      "outputs": []
    },
    {
      "cell_type": "code",
      "source": [
        "folder_out_path = \"./playground/eval_wo_output\"\n",
        "pic_count = 0\n",
        "contain_1_tag_count = 0\n",
        "# 支援的圖片格式\n",
        "image_formats = [\"*.txt\"]\n",
        "# 遍歷所有格式的圖片檔案並列出路徑\n",
        "for image_format in image_formats:\n",
        "    for image_file in glob.glob(os.path.join(folder_out_path, image_format)):\n",
        "        # 檢查檔案是否存在\n",
        "        # print(f\"image_file: {image_file}\")\n",
        "\n",
        "        if 'error' in image_file:\n",
        "            continue\n",
        "\n",
        "        if os.path.isfile(image_file):\n",
        "            content = open(image_file, 'r').read()\n",
        "            # print(content)\n",
        "            pic_count+=1\n",
        "            tags = extract_image_info(content)['pred_classes']\n",
        "            if tags and 1 in tags:\n",
        "                contain_1_tag_count+=1\n",
        "print(f\"pic_count: {pic_count}\")\n",
        "print(f\"contain_1_tag_count: {contain_1_tag_count}\")\n"
      ],
      "metadata": {
        "id": "gAWEAcFRXtgj"
      },
      "execution_count": null,
      "outputs": []
    }
  ],
  "metadata": {
    "colab": {
      "provenance": [],
      "gpuType": "T4",
      "collapsed_sections": [
        "-wWmoY-_xg4i"
      ],
      "include_colab_link": true
    },
    "interpreter": {
      "hash": "517234ba8a8c2628fc901a4b482ee7ad83e05e3ca55f6d4e216a0b65fa2f59e9"
    },
    "kernelspec": {
      "display_name": "Python 3",
      "name": "python3"
    },
    "language_info": {
      "codemirror_mode": {
        "name": "ipython",
        "version": 3
      },
      "file_extension": ".py",
      "mimetype": "text/x-python",
      "name": "python",
      "nbconvert_exporter": "python",
      "pygments_lexer": "ipython3",
      "version": "3.9.13"
    },
    "accelerator": "GPU"
  },
  "nbformat": 4,
  "nbformat_minor": 0
}